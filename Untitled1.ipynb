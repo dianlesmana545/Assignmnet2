{
 "cells": [
  {
   "cell_type": "code",
   "execution_count": null,
   "id": "9dbe54cc",
   "metadata": {},
   "outputs": [],
   "source": [
    "import pandas as pd"
   ]
  },
  {
   "cell_type": "code",
   "execution_count": null,
   "id": "7dc05938",
   "metadata": {},
   "outputs": [],
   "source": []
  }
 ],
 "metadata": {},
 "nbformat": 4,
 "nbformat_minor": 5
}
